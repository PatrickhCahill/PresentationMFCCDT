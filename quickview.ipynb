{
 "cells": [
  {
   "cell_type": "code",
   "execution_count": 13,
   "id": "b3bf3e89",
   "metadata": {},
   "outputs": [],
   "source": [
    "import pandas as pd\n",
    "import matplotlib.pyplot as plt\n",
    "from tqdm import tqdm\n",
    "import numpy as np\n",
    "\n",
    "import healpy as hp\n",
    "import cartopy.feature as cfeature\n",
    "import cartopy.crs as ccrs\n",
    "\n",
    "from cartopy.io import shapereader\n",
    "from shapely.geometry import Point\n",
    "from haversine import haversine_vector, Unit\n",
    "import torch"
   ]
  },
  {
   "cell_type": "code",
   "execution_count": 6,
   "id": "dfab88aa",
   "metadata": {},
   "outputs": [],
   "source": [
    "# dtypes = {\n",
    "#     'ID':'int32',\n",
    "#     'time':'int32',\n",
    "#     'latitude':'float32',\n",
    "#     'longitude':'float32',\n",
    "#     'lon360':'float32',\n",
    "#     'sst':'float32',\n",
    "#     'err_sst':'float32',\n",
    "#     've':'float32',\n",
    "#     'vn':'float32',\n",
    "#     'err_lat':'float32',\n",
    "#     'err_lon':'float32',\n",
    "# }\n",
    "\n",
    "date_cols = ['time']\n",
    "\n",
    "\n",
    "df = pd.read_csv(\"drifter_6hour_qc_723d_ea19_204a.csv\",\n",
    "                #  dtype=dtypes,\n",
    "                 parse_dates=date_cols,\n",
    "                 skiprows=[1])"
   ]
  },
  {
   "cell_type": "code",
   "execution_count": 7,
   "id": "76da796a",
   "metadata": {},
   "outputs": [
    {
     "data": {
      "text/plain": [
       "28706"
      ]
     },
     "execution_count": 7,
     "metadata": {},
     "output_type": "execute_result"
    }
   ],
   "source": [
    "len(df.ID.unique())"
   ]
  },
  {
   "cell_type": "code",
   "execution_count": 8,
   "id": "02e67ff0",
   "metadata": {},
   "outputs": [
    {
     "data": {
      "text/plain": [
       "ID                         int64\n",
       "time         datetime64[ns, UTC]\n",
       "latitude                 float64\n",
       "longitude                float64\n",
       "lon360                   float64\n",
       "sst                      float64\n",
       "err_sst                  float64\n",
       "ve                       float64\n",
       "vn                       float64\n",
       "err_lat                  float64\n",
       "err_lon                  float64\n",
       "dtype: object"
      ]
     },
     "execution_count": 8,
     "metadata": {},
     "output_type": "execute_result"
    }
   ],
   "source": [
    "df.dtypes"
   ]
  },
  {
   "cell_type": "code",
   "execution_count": null,
   "id": "40fefc59",
   "metadata": {},
   "outputs": [],
   "source": [
    "if False:\n",
    "    # Step 1: Create the figure and ax with a geographic projection\n",
    "    fig, ax = plt.subplots(figsize=(20, 10), subplot_kw={'projection': ccrs.PlateCarree()})\n",
    "\n",
    "    # Step 2: Add a basic world map\n",
    "    ax.add_feature(cfeature.LAND, facecolor='lightgray')\n",
    "    ax.add_feature(cfeature.OCEAN, facecolor='lightblue')\n",
    "    ax.add_feature(cfeature.COASTLINE)\n",
    "    ax.add_feature(cfeature.BORDERS, linestyle=':')\n",
    "\n",
    "    # Optional: gridlines\n",
    "    ax.gridlines(draw_labels=True)\n",
    "\n",
    "    # Step 3: Set the extent (optional - to zoom into a specific region)\n",
    "    # ax.set_extent([-180, 180, -90, 90])  # global view\n",
    "\n",
    "    # Step 4: Plot your data (replace these with your actual data)\n",
    "    for unique_id in tqdm(df.ID.unique()[0::1]):\n",
    "        slice_df = df[df.ID == unique_id][[\"latitude\", \"longitude\"]].astype(float)\n",
    "        longitudes = slice_df['longitude'].to_numpy()\n",
    "        latitudes = slice_df['latitude'].to_numpy()\n",
    "        \n",
    "        jumps = np.abs(np.diff(longitudes))\n",
    "        split_indices = np.where(jumps > 180)[0] + 1\n",
    "        \n",
    "        lon_segments = np.split(longitudes, split_indices)\n",
    "        lat_segments = np.split(latitudes, split_indices)\n",
    "\n",
    "        for idx, lon_segment in enumerate(lon_segments):\n",
    "            ax.plot(lon_segment, lat_segments[idx], transform=ccrs.PlateCarree(), color=(20/256, 148/256, 219/256,0.05))  # 'ro' for red dots\n",
    "\n",
    "        # ax = df[df.ID == unique_id][[\"latitude\", \"longitude\"]].plot(ax=ax, y=\"latitude\", x = \"longitude\", legend=False)\n",
    "\n",
    "\n",
    "    plt.savefig(\"Drifter Plot.png\")\n"
   ]
  },
  {
   "cell_type": "code",
   "execution_count": 9,
   "id": "d3d0f7ff",
   "metadata": {},
   "outputs": [],
   "source": [
    "df_slice = df.loc[::1000]\n",
    "\n",
    "longitudes = torch.from_numpy(df_slice.longitude.values)\n",
    "latitudes = torch.from_numpy(df_slice.latitude.values)\n",
    "north_velocities = torch.from_numpy(df_slice.vn.values)\n",
    "east_velocities = torch.from_numpy(df_slice.ve.values)"
   ]
  },
  {
   "cell_type": "code",
   "execution_count": 10,
   "id": "7654e9aa",
   "metadata": {},
   "outputs": [
    {
     "data": {
      "image/png": "[encoded data removed]",
      "text/plain": [
       "<Figure size 850x540 with 2 Axes>"
      ]
     },
     "metadata": {},
     "output_type": "display_data"
    }
   ],
   "source": [
    "# 1. Creating a world grid\n",
    "\n",
    "# healpy is designed to provide pixelated data on a sphere. It will help us pixelate the earth into a discretised grid which we can then do our approximations on.\n",
    "\n",
    "nside = 64  # Set the resolutio of the grid. (Given by power of 2)\n",
    "npix = hp.nside2npix(nside) #Returns optimum number of pixels required\n",
    "\n",
    "theta, phi = hp.pix2ang(nside, np.arange(npix)) # Returns the centre of a discretised grid of points for the specified number of pixels\n",
    "\n",
    "grid_latitudes = torch.from_numpy(np.degrees(0.5 * np.pi - theta)) # Convert centre into latitude and longitude measurements\n",
    "grid_longitudes = torch.from_numpy(180 - np.degrees(phi))\n",
    "\n",
    "land_shpfilename = shapereader.natural_earth(resolution='110m',\n",
    "                                              category='physical',\n",
    "                                              name='land') # Get land polygons from Natural Earth data\n",
    "land_geoms = list(shapereader.Reader(land_shpfilename).geometries())\n",
    "\n",
    "\n",
    "\n",
    "ocean_values = np.ones(npix, dtype=np.uint8) # Mask to set oceans. 0 for land\n",
    "\n",
    "for i in range(npix):\n",
    "    point = Point(grid_longitudes[i], grid_latitudes[i])\n",
    "    if any(geom.contains(point) for geom in land_geoms):\n",
    "        ocean_values[i] = 0  # land\n",
    "\n",
    "\n",
    "v_velocity = np.zeros(npix, dtype=np.float32) # Ocean data matrix initialised to 0.\n",
    "u_velocity = np.zeros(npix, dtype=np.float32) # Ocean data matrix initialised to 0.\n",
    "\n",
    "\n",
    "hp.mollview(ocean_values, title=\"Pixelated earth\", cmap='coolwarm') # mollview is a special function that assumes the correct length of the mask variable.\n",
    "plt.show()\n"
   ]
  },
  {
   "cell_type": "code",
   "execution_count": null,
   "id": "cabd6496",
   "metadata": {},
   "outputs": [
    {
     "name": "stderr",
     "output_type": "stream",
     "text": [
      "0it [00:00, ?it/s]"
     ]
    },
    {
     "ename": "",
     "evalue": "",
     "output_type": "error",
     "traceback": [
      "\u001b[1;31mThe Kernel crashed while executing code in the current cell or a previous cell. \n",
      "\u001b[1;31mPlease review the code in the cell(s) to identify a possible cause of the failure. \n",
      "\u001b[1;31mClick <a href='https://aka.ms/vscodeJupyterKernelCrash'>here</a> for more info. \n",
      "\u001b[1;31mView Jupyter <a href='command:jupyter.viewOutput'>log</a> for further details."
     ]
    }
   ],
   "source": [
    "# 2. Loop over each point in the grid\n",
    "# If the grid is land ignore.\n",
    "# If the grid is water, fetch floaters that are within a certain distance of the point.\n",
    "# Perform a gaussian smoothing on them to guess the velocity\n",
    "\n",
    "def geodesic_distance_torch(ref_lat, ref_lon, batch_lat, batch_lon, radius=6371.0):\n",
    "    \"\"\"\n",
    "    Approximate geodesic distance on Earth using Haversine formula.\n",
    "    Inputs:\n",
    "      - ref_lat, ref_lon: scalars (reference point) in degrees or tensors broadcastable to batch_lat/batch_lon\n",
    "      - batch_lat, batch_lon: tensors of points in degrees\n",
    "    Returns:\n",
    "      - distances tensor (in kilometers)\n",
    "    \"\"\"\n",
    "    # convert degrees to radians\n",
    "    ref_lat = torch.deg2rad(ref_lat)\n",
    "    ref_lon = torch.deg2rad(ref_lon)\n",
    "    batch_lat = torch.deg2rad(batch_lat)\n",
    "    batch_lon = torch.deg2rad(batch_lon)\n",
    "\n",
    "    dlat = batch_lat - ref_lat\n",
    "    dlon = batch_lon - ref_lon\n",
    "\n",
    "    a = torch.sin(dlat / 2) ** 2 + torch.cos(ref_lat) * torch.cos(batch_lat) * torch.sin(dlon / 2) ** 2\n",
    "    c = 2 * torch.atan2(torch.sqrt(a), torch.sqrt(1 - a))\n",
    "\n",
    "    return radius * c\n",
    "\n",
    "b = 1000\n",
    "\n",
    "for idx, u_idx in tqdm(enumerate(v_velocity)):\n",
    "    if ocean_values[idx]==1:\n",
    "      this_lat = grid_latitudes[idx]\n",
    "      this_lon = grid_longitudes[idx]\n",
    "      \n",
    "\n",
    "      distances = geodesic_distance_torch(this_lat, this_lon, latitudes, longitudes)\n",
    "      kernel_weights = torch.exp(-distances**2 / (2 * b**2))\n",
    "      kernel_weights[north_velocities==-999999.0] = 0 # Missing data catch. Missing entries are encoded as -999999.0\n",
    "\n",
    "      \n",
    "      v_velocity[idx] = (north_velocities * kernel_weights).sum() / kernel_weights.sum()\n",
    "      u_velocity[idx] = (east_velocities * kernel_weights).sum() / kernel_weights.sum()\n"
   ]
  },
  {
   "cell_type": "code",
   "execution_count": null,
   "id": "3e5d5cbb",
   "metadata": {},
   "outputs": [],
   "source": [
    "\n",
    "mask = (ocean_values == 1)\n",
    "\n",
    "lat_ocean = grid_latitudes[mask]\n",
    "lon_ocean = grid_longitudes[mask]\n",
    "X_ocean = v_velocity[mask]\n",
    "\n",
    "\n",
    "# Step 1: Create the figure and ax with a geographic projection\n",
    "fig, ax = plt.subplots(figsize=(20, 10), subplot_kw={'projection': ccrs.PlateCarree()})\n",
    "\n",
    "# Step 2: Add a basic world map\n",
    "ax.add_feature(cfeature.LAND, facecolor='lightgray')\n",
    "ax.add_feature(cfeature.OCEAN, facecolor='lightblue')\n",
    "ax.add_feature(cfeature.COASTLINE)\n",
    "ax.add_feature(cfeature.BORDERS, linestyle=':')\n",
    "\n",
    "# Optional: gridlines\n",
    "ax.gridlines(draw_labels=True)\n",
    "sc = ax.scatter(lon_ocean, lat_ocean, c=X_ocean, cmap='viridis', marker='o', s=10)\n",
    "plt.colorbar(sc, label='North velocity')\n",
    "\n",
    "\n",
    "plt.savefig(\"Northvelocity_gaussiansmooth_b1000.png\")\n"
   ]
  },
  {
   "cell_type": "code",
   "execution_count": null,
   "id": "1d4dcd2c",
   "metadata": {},
   "outputs": [],
   "source": [
    "\n",
    "mask = (ocean_values == 1)\n",
    "\n",
    "lat_ocean = grid_latitudes[mask]\n",
    "lon_ocean = grid_longitudes[mask]\n",
    "X_ocean = u_velocity[mask]\n",
    "\n",
    "\n",
    "# Step 1: Create the figure and ax with a geographic projection\n",
    "fig, ax = plt.subplots(figsize=(20, 10), subplot_kw={'projection': ccrs.PlateCarree()})\n",
    "\n",
    "# Step 2: Add a basic world map\n",
    "ax.add_feature(cfeature.LAND, facecolor='lightgray')\n",
    "ax.add_feature(cfeature.OCEAN, facecolor='lightblue')\n",
    "ax.add_feature(cfeature.COASTLINE)\n",
    "ax.add_feature(cfeature.BORDERS, linestyle=':')\n",
    "\n",
    "# Optional: gridlines\n",
    "ax.gridlines(draw_labels=True)\n",
    "sc = ax.scatter(lon_ocean, lat_ocean, c=X_ocean, cmap='viridis', marker='o', s=10)\n",
    "plt.colorbar(sc, label='East velocity')\n",
    "\n",
    "\n",
    "plt.savefig(\"Eastvelocity_gaussiansmooth_b1000.png\")\n"
   ]
  }
 ],
 "metadata": {
  "kernelspec": {
   "display_name": "venv",
   "language": "python",
   "name": "python3"
  },
  "language_info": {
   "codemirror_mode": {
    "name": "ipython",
    "version": 3
   },
   "file_extension": ".py",
   "mimetype": "text/x-python",
   "name": "python",
   "nbconvert_exporter": "python",
   "pygments_lexer": "ipython3",
   "version": "3.13.7"
  }
 },
 "nbformat": 4,
 "nbformat_minor": 5
}
